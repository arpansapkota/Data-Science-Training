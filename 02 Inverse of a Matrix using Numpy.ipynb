{
 "cells": [
  {
   "cell_type": "markdown",
   "id": "080b0cd7",
   "metadata": {},
   "source": [
    "# Inverse of a Matrix using Numpy"
   ]
  },
  {
   "cell_type": "markdown",
   "id": "1498b10a",
   "metadata": {},
   "source": [
    "The inverse of a matrix is just a reciprocal of the matrix as we do in normal arithmetic for a single number which is used to solve the equations to find the value of unknown variables. The inverse of a matrix is that matrix which when multiplied with the original matrix will give as an identity matrix. The inverse of a matrix exists only if the matrix is non-singular i.e., determinant should not be 0. Using determinant and adjoint, we can easily find the inverse of a square matrix using below formula,\n",
    "\n",
    "if det(A) != 0\n",
    "    A-1 = adj(A)/det(A)\n",
    "else\n",
    "    \"Inverse doesn't exist\" \n"
   ]
  },
  {
   "cell_type": "markdown",
   "id": "d31ec293",
   "metadata": {},
   "source": [
    "Inverse of a Matrix using NumPy\n",
    "Python provides a very easy method to calculate the inverse of a matrix. The function numpy.linalg.inv() which is available in the python NumPy module is used to compute the inverse of a matrix. "
   ]
  },
  {
   "cell_type": "code",
   "execution_count": 3,
   "id": "087088dc",
   "metadata": {},
   "outputs": [],
   "source": [
    "# Import required package\n",
    "import numpy as np"
   ]
  },
  {
   "cell_type": "code",
   "execution_count": 4,
   "id": "47c42641",
   "metadata": {},
   "outputs": [],
   "source": [
    "# Taking a 3 * 3 matrix\n",
    "A = np.array([[4, 3, 6],\n",
    "              [2, 5, 9],\n",
    "              [8, 6, 3]])\n"
   ]
  },
  {
   "cell_type": "code",
   "execution_count": 5,
   "id": "993b43de",
   "metadata": {},
   "outputs": [
    {
     "name": "stdout",
     "output_type": "stream",
     "text": [
      "[[ 0.30952381 -0.21428571  0.02380952]\n",
      " [-0.52380952  0.28571429  0.19047619]\n",
      " [ 0.22222222  0.         -0.11111111]]\n"
     ]
    }
   ],
   "source": [
    "# Calculating the inverse of the matrix\n",
    "print(np.linalg.inv(A))"
   ]
  },
  {
   "cell_type": "code",
   "execution_count": null,
   "id": "98d9e0bc",
   "metadata": {},
   "outputs": [],
   "source": []
  }
 ],
 "metadata": {
  "kernelspec": {
   "display_name": "Python 3 (ipykernel)",
   "language": "python",
   "name": "python3"
  },
  "language_info": {
   "codemirror_mode": {
    "name": "ipython",
    "version": 3
   },
   "file_extension": ".py",
   "mimetype": "text/x-python",
   "name": "python",
   "nbconvert_exporter": "python",
   "pygments_lexer": "ipython3",
   "version": "3.9.4"
  }
 },
 "nbformat": 4,
 "nbformat_minor": 5
}
