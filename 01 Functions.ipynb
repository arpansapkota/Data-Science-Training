{
 "cells": [
  {
   "cell_type": "markdown",
   "id": "a1497c7b",
   "metadata": {},
   "source": [
    "# 1 Functions"
   ]
  },
  {
   "cell_type": "markdown",
   "id": "3171efae",
   "metadata": {},
   "source": [
    "In Python, a function is a named sequence of statements that belong together. Their primary purpose is to help us organize programs into chunks that match how we think about the problem.\n",
    "\n",
    "The syntax for a function definition is:"
   ]
  },
  {
   "cell_type": "code",
   "execution_count": null,
   "id": "7120dcd0",
   "metadata": {},
   "outputs": [],
   "source": [
    "def NAME( PARAMETERS ):\n",
    "    STATEMENTS"
   ]
  },
  {
   "cell_type": "markdown",
   "id": "605dc9b3",
   "metadata": {},
   "source": [
    "We can make up any names we want for the functions we create, except that we can’t use a name that is a Python keyword, and the names must follow the rules for legal identifiers.\n",
    "\n",
    "There can be any number of statements inside the function, but they have to be indented from the def. In the examples in this book, we will use the standard indentation of four spaces. Function definitions are the second of several compound statements we will see, all of which have the same pattern:\n",
    "\n",
    "1. A header line which begins with a keyword and ends with a colon.\n",
    "2. A body consisting of one or more Python statements, each indented the same amount — the Python style guide recommends 4 spaces — from the header line."
   ]
  },
  {
   "cell_type": "markdown",
   "id": "2f4de488",
   "metadata": {},
   "source": [
    "Example of a function"
   ]
  },
  {
   "cell_type": "code",
   "execution_count": null,
   "id": "0b01f829",
   "metadata": {},
   "outputs": [],
   "source": [
    "def greet(name):\n",
    "    \"\"\"\n",
    "    This function greets to\n",
    "    the person passed in as\n",
    "    a parameter\n",
    "    \"\"\"\n",
    "    print(\"Hello, \" + name + \". Good morning!\")"
   ]
  },
  {
   "cell_type": "markdown",
   "id": "03f72b5c",
   "metadata": {},
   "source": [
    "How to call a function in python?"
   ]
  },
  {
   "cell_type": "markdown",
   "id": "522ce5ea",
   "metadata": {},
   "source": [
    "Once we have defined a function, we can call it from another function, program, or even the Python prompt. To call a function we simply type the function name with appropriate parameters."
   ]
  },
  {
   "cell_type": "code",
   "execution_count": null,
   "id": "6cac07fa",
   "metadata": {},
   "outputs": [],
   "source": [
    ">>> greet('Arpan')\n",
    "Hello, Arpan. Good morning!"
   ]
  },
  {
   "cell_type": "markdown",
   "id": "0fbbeabb",
   "metadata": {},
   "source": [
    "Try running the above code in the Python program with the function definition to see the output."
   ]
  },
  {
   "cell_type": "code",
   "execution_count": null,
   "id": "0574f7b3",
   "metadata": {},
   "outputs": [],
   "source": [
    "def greet(name):\n",
    "    \"\"\"\n",
    "    This function greets to\n",
    "    the person passed in as\n",
    "    a parameter\n",
    "    \"\"\"\n",
    "    print(\"Hello, \" + name + \". Good morning!\")\n",
    "\n",
    "greet('Arpan')"
   ]
  },
  {
   "cell_type": "markdown",
   "id": "14429f85",
   "metadata": {},
   "source": [
    "In python, the function definition should always be present before the function call. Otherwise, we will get an error. For example,"
   ]
  },
  {
   "cell_type": "code",
   "execution_count": null,
   "id": "9d5a7cfb",
   "metadata": {},
   "outputs": [],
   "source": [
    "# function call\n",
    "greet('Arpan')\n",
    "\n",
    "# function definition\n",
    "def greet(name):\n",
    "    \"\"\"\n",
    "    This function greets to\n",
    "    the person passed in as\n",
    "    a parameter\n",
    "    \"\"\"\n",
    "    print(\"Hello, \" + name + \". Good morning!\")\n",
    "\n",
    "# Erro: name 'greet' is not defined"
   ]
  },
  {
   "cell_type": "markdown",
   "id": "73250827",
   "metadata": {},
   "source": [
    "The return statement :"
   ]
  },
  {
   "cell_type": "markdown",
   "id": "0f8918ab",
   "metadata": {},
   "source": [
    "The return statement is used to exit a function and go back to the place from where it was called."
   ]
  },
  {
   "cell_type": "markdown",
   "id": "1b052784",
   "metadata": {},
   "source": [
    "Syntax of return:"
   ]
  },
  {
   "cell_type": "code",
   "execution_count": null,
   "id": "c63194dd",
   "metadata": {},
   "outputs": [],
   "source": [
    "return [expression_list]"
   ]
  },
  {
   "cell_type": "markdown",
   "id": "e3403b8e",
   "metadata": {},
   "source": [
    "This statement can contain an expression that gets evaluated and the value is returned. If there is no expression in the statement or the return statement itself is not present inside a function, then the function will return the None object.\n",
    "\n",
    "For example:"
   ]
  },
  {
   "cell_type": "code",
   "execution_count": null,
   "id": "bc30da52",
   "metadata": {},
   "outputs": [],
   "source": [
    ">>> print(greet(\"Mark\"))\n",
    "Hello, Mark. Good morning!\n",
    "None"
   ]
  },
  {
   "cell_type": "markdown",
   "id": "6851a859",
   "metadata": {},
   "source": [
    "Here, None is the returned value since greet() directly prints the name and no return statement is used.\n",
    "\n",
    "Example of return :"
   ]
  },
  {
   "cell_type": "code",
   "execution_count": 1,
   "id": "0f0481cd",
   "metadata": {},
   "outputs": [
    {
     "name": "stdout",
     "output_type": "stream",
     "text": [
      "2\n",
      "4\n"
     ]
    }
   ],
   "source": [
    "def absolute_value(num):\n",
    "    \"\"\"This function returns the absolute\n",
    "    value of the entered number\"\"\"\n",
    "\n",
    "    if num >= 0:\n",
    "        return num\n",
    "    else:\n",
    "        return -num\n",
    "\n",
    "\n",
    "print(absolute_value(2))\n",
    "\n",
    "print(absolute_value(-4))"
   ]
  }
 ],
 "metadata": {
  "kernelspec": {
   "display_name": "Python 3 (ipykernel)",
   "language": "python",
   "name": "python3"
  },
  "language_info": {
   "codemirror_mode": {
    "name": "ipython",
    "version": 3
   },
   "file_extension": ".py",
   "mimetype": "text/x-python",
   "name": "python",
   "nbconvert_exporter": "python",
   "pygments_lexer": "ipython3",
   "version": "3.9.4"
  }
 },
 "nbformat": 4,
 "nbformat_minor": 5
}
