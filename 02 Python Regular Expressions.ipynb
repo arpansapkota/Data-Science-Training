{
 "cells": [
  {
   "cell_type": "markdown",
   "id": "3817ff97",
   "metadata": {},
   "source": [
    "# Python Regular Expressions"
   ]
  },
  {
   "cell_type": "markdown",
   "id": "466ceda1",
   "metadata": {},
   "source": [
    "The regular expressions can be defined as the sequence of characters which are used to search for a pattern in a string. The module re provides the support to use regex in the python program. The re module throws an exception if there is some error while using the regular expression.\n",
    "\n",
    "The re module must be imported to use the regex functionalities in python."
   ]
  },
  {
   "cell_type": "code",
   "execution_count": null,
   "id": "b5cdbaa1",
   "metadata": {},
   "outputs": [],
   "source": [
    "import re   "
   ]
  },
  {
   "cell_type": "markdown",
   "id": "ca5e8607",
   "metadata": {},
   "source": [
    "Regex Functions\n",
    "The following regex functions are used in the python."
   ]
  },
  {
   "cell_type": "markdown",
   "id": "449639f7",
   "metadata": {},
   "source": [
    "1 match - This method matches the regex pattern in the string with the optional flag. It returns true if a match is found in the string otherwise it returns false.\n",
    "2 search - This method returns the match object if there is a match found in the string.\n",
    "3 findall - It returns a list that contains all the matches of a pattern in the string.\n",
    "4 split\t- Returns a list in which the string has been split in each match.\n",
    "5 sub - Replace one or many matches in the string."
   ]
  },
  {
   "cell_type": "markdown",
   "id": "f68ee272",
   "metadata": {},
   "source": [
    "Forming a regular expression\n",
    "A regular expression can be formed by using the mix of meta-characters, special sequences, and sets."
   ]
  },
  {
   "cell_type": "markdown",
   "id": "aede551d",
   "metadata": {},
   "source": [
    "The findall() function\n",
    "This method returns a list containing a list of all matches of a pattern within the string. It returns the patterns in the order they are found. If there are no matches, then an empty list is returned.\n",
    "Consider the following example.\n",
    "\n",
    "Example"
   ]
  },
  {
   "cell_type": "code",
   "execution_count": 2,
   "id": "55f01c5d",
   "metadata": {},
   "outputs": [
    {
     "name": "stdout",
     "output_type": "stream",
     "text": [
      "['Who', 'Who']\n"
     ]
    }
   ],
   "source": [
    "import re  \n",
    "  \n",
    "str = \"Who are you. Who is someone\"  \n",
    "  \n",
    "matches = re.findall(\"Who\", str)  \n",
    "  \n",
    "print(matches)   "
   ]
  },
  {
   "cell_type": "markdown",
   "id": "3d647f86",
   "metadata": {},
   "source": [
    "The match object\n",
    "The match object contains the information about the search and the output. If there is no match found, the None object is returned.\n",
    "\n",
    "Example"
   ]
  },
  {
   "cell_type": "code",
   "execution_count": 4,
   "id": "ca712cd3",
   "metadata": {},
   "outputs": [
    {
     "name": "stdout",
     "output_type": "stream",
     "text": [
      "<class 're.Match'>\n",
      "<re.Match object; span=(0, 3), match='Who'>\n"
     ]
    }
   ],
   "source": [
    "import re  \n",
    "  \n",
    "str = \"Who are you. Who is someone\"  \n",
    "  \n",
    "matches = re.search(\"Who\", str)  \n",
    "  \n",
    "print(type(matches))  \n",
    "  \n",
    "print(matches) #matches is the search object  "
   ]
  },
  {
   "cell_type": "markdown",
   "id": "f0aa020e",
   "metadata": {},
   "source": [
    "The Match object methods\n",
    "There are the following methods associated with the Match object.\n",
    "\n",
    "span(): It returns the tuple containing the starting and end position of the match.\n",
    "string(): It returns a string passed into the function.\n",
    "group(): The part of the string is returned where the match is found.\n",
    "\n",
    "Example"
   ]
  },
  {
   "cell_type": "code",
   "execution_count": 5,
   "id": "43c5a4a2",
   "metadata": {},
   "outputs": [
    {
     "name": "stdout",
     "output_type": "stream",
     "text": [
      "(0, 3)\n",
      "Who\n",
      "Who are you. Who is someone\n"
     ]
    }
   ],
   "source": [
    "import re  \n",
    "  \n",
    "str = \"Who are you. Who is someone\"  \n",
    "  \n",
    "matches = re.search(\"Who\", str)  \n",
    "  \n",
    "print(matches.span())  \n",
    "  \n",
    "print(matches.group())  \n",
    "  \n",
    "print(matches.string)  "
   ]
  }
 ],
 "metadata": {
  "kernelspec": {
   "display_name": "Python 3 (ipykernel)",
   "language": "python",
   "name": "python3"
  },
  "language_info": {
   "codemirror_mode": {
    "name": "ipython",
    "version": 3
   },
   "file_extension": ".py",
   "mimetype": "text/x-python",
   "name": "python",
   "nbconvert_exporter": "python",
   "pygments_lexer": "ipython3",
   "version": "3.9.4"
  }
 },
 "nbformat": 4,
 "nbformat_minor": 5
}
