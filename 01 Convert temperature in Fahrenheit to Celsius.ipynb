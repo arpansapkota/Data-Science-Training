{
 "cells": [
  {
   "cell_type": "markdown",
   "id": "747e4436",
   "metadata": {},
   "source": [
    "# Fahrenheit to Celsius"
   ]
  },
  {
   "cell_type": "markdown",
   "id": "bb2f1adf",
   "metadata": {},
   "source": [
    "So the first thing we are going to do is to ask the user for the temperature in Fahrenheit to convert it into the Celsius.\n",
    "\n",
    "We will convert the temperature into float using float() so that we can perform calculations on it.\n"
   ]
  },
  {
   "cell_type": "code",
   "execution_count": 1,
   "id": "dcf1f018",
   "metadata": {},
   "outputs": [
    {
     "name": "stdout",
     "output_type": "stream",
     "text": [
      "Enter Temperature in Fahrenheit: 60\n"
     ]
    }
   ],
   "source": [
    "temp = float(input(\"Enter Temperature in Fahrenheit: \"))"
   ]
  },
  {
   "cell_type": "markdown",
   "id": "da2a9016",
   "metadata": {},
   "source": [
    "Now finally let's perform calculation and convert the temperature into Celsius."
   ]
  },
  {
   "cell_type": "code",
   "execution_count": 2,
   "id": "daee2d4d",
   "metadata": {},
   "outputs": [],
   "source": [
    "celsius = (temp - 32) * 5/9"
   ]
  },
  {
   "cell_type": "markdown",
   "id": "e83ccf5f",
   "metadata": {},
   "source": [
    "This expression you see above is the general formula to convert Fahrenheit into Celsius.\n",
    "\n",
    "Now finally let's print our temperature in Celsius:"
   ]
  },
  {
   "cell_type": "code",
   "execution_count": 3,
   "id": "7fb46bb8",
   "metadata": {},
   "outputs": [
    {
     "name": "stdout",
     "output_type": "stream",
     "text": [
      "60.0 in Fahrenheit is equal to 15.555555555555555 in Celsius\n"
     ]
    }
   ],
   "source": [
    "print(f\"{temp} in Fahrenheit is equal to {celsius} in Celsius\")"
   ]
  },
  {
   "cell_type": "markdown",
   "id": "4705543a",
   "metadata": {},
   "source": [
    "Here we go we are done! Here we have used f-strings to directly place the variable within the print statement.\n",
    "\n"
   ]
  }
 ],
 "metadata": {
  "kernelspec": {
   "display_name": "Python 3 (ipykernel)",
   "language": "python",
   "name": "python3"
  },
  "language_info": {
   "codemirror_mode": {
    "name": "ipython",
    "version": 3
   },
   "file_extension": ".py",
   "mimetype": "text/x-python",
   "name": "python",
   "nbconvert_exporter": "python",
   "pygments_lexer": "ipython3",
   "version": "3.9.4"
  }
 },
 "nbformat": 4,
 "nbformat_minor": 5
}
